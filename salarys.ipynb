{
 "cells": [
  {
   "cell_type": "markdown",
   "id": "f64a5f22-dad7-491f-9d0c-a2781f75fea3",
   "metadata": {
    "tags": []
   },
   "source": [
    "# Data Science salaries"
   ]
  },
  {
   "cell_type": "markdown",
   "id": "cd2cde2f-a992-4780-9da0-c200fbbdf80e",
   "metadata": {},
   "source": [
    "## Introduction\n"
   ]
  },
  {
   "cell_type": "markdown",
   "id": "bc0090b4-9153-4aa7-96e9-f907f8939c28",
   "metadata": {},
   "source": [
    "Como personas que estudian Datos, como gente que esta interesada en estudiarla, algo interesante a saber es saber al salario que uno puede aspirar.\n",
    "\n",
    "Mi objetivo va a radicar estudiar el salario de un DataSience.\n",
    "\n",
    "## Analisis univariante\n",
    "\n",
    "El dataFrame cuenta de 12 variables distintas:\n",
    "\n",
    "* **Work_year**: Año del que se toma en cuenta los datos\n",
    "    * 2020-2024\n",
    "    \n",
    "* **Experience level**: Nivel de experiencia de la persona\n",
    "    * Entri-Mid-Senior & executive\n",
    "    \n",
    "* **Employment_type**: Duracion de la jornada laboral\n",
    "    * Full time, part time, contract, freelance\n",
    "    \n",
    "* **Job title**: Titulacion\n",
    "    * Analytics Engineer, AI Engineer...\n",
    "    \n",
    "* **Salary**: Salario en la moneda  local donde trabajaba el trabajador\n",
    "\n",
    "* **Salary currency**: Es la moneda en la que esta medido el salario\n",
    "    * Euros (EUR), dolares (USD), Libra esternina (GBP) (Reino Unido)\n",
    "    \n",
    "* **Salary in usd**: Salario medido en dolares\n",
    "    \n",
    "* **Employee_residence**: Lugar de residencia de cada empleado\n",
    "    * Estados unidos (Us), España (Es)...\n",
    "\n",
    "* **Remote radio**: Indica si es un trabajo remoto y cuan remoto es\n",
    "    * Trabajo totalmente presencial (0),Parcialmente remoto (50), completamente remoto (100)\n",
    "    \n",
    "* **Company location**: Localizacion de la empresa\n",
    "    * apon (JP), Estados Unidos (US), España(ES)\n",
    "    \n",
    "* **Company size**: Tamaño de la empresa en funcion a los ingresos y numero de trabajadores\n",
    "    * S, M, L"
   ]
  },
  {
   "cell_type": "code",
   "execution_count": 20,
   "id": "80a2ad40-b00a-4233-b970-7d34abef8faa",
   "metadata": {},
   "outputs": [
    {
     "data": {
      "text/html": [
       "<table class=\"dataframe\">\n",
       "<caption>A data.frame: 6 × 11</caption>\n",
       "<thead>\n",
       "\t<tr><th></th><th scope=col>work_year</th><th scope=col>experience_level</th><th scope=col>employment_type</th><th scope=col>job_title</th><th scope=col>salary</th><th scope=col>salary_currency</th><th scope=col>salary_in_usd</th><th scope=col>employee_residence</th><th scope=col>remote_ratio</th><th scope=col>company_location</th><th scope=col>company_size</th></tr>\n",
       "\t<tr><th></th><th scope=col>&lt;int&gt;</th><th scope=col>&lt;chr&gt;</th><th scope=col>&lt;chr&gt;</th><th scope=col>&lt;chr&gt;</th><th scope=col>&lt;int&gt;</th><th scope=col>&lt;chr&gt;</th><th scope=col>&lt;int&gt;</th><th scope=col>&lt;chr&gt;</th><th scope=col>&lt;int&gt;</th><th scope=col>&lt;chr&gt;</th><th scope=col>&lt;chr&gt;</th></tr>\n",
       "</thead>\n",
       "<tbody>\n",
       "\t<tr><th scope=row>1</th><td>2021</td><td>MI</td><td>FT</td><td>Data Scientist                </td><td>30400000</td><td>CLP</td><td>40038</td><td>CL</td><td>100</td><td>CL</td><td>L</td></tr>\n",
       "\t<tr><th scope=row>2</th><td>2021</td><td>MI</td><td>FT</td><td>BI Data Analyst               </td><td>11000000</td><td>HUF</td><td>36259</td><td>HU</td><td> 50</td><td>US</td><td>L</td></tr>\n",
       "\t<tr><th scope=row>3</th><td>2020</td><td>MI</td><td>FT</td><td>Data Scientist                </td><td>11000000</td><td>HUF</td><td>35735</td><td>HU</td><td> 50</td><td>HU</td><td>L</td></tr>\n",
       "\t<tr><th scope=row>4</th><td>2021</td><td>MI</td><td>FT</td><td>ML Engineer                   </td><td> 8500000</td><td>JPY</td><td>77364</td><td>JP</td><td> 50</td><td>JP</td><td>S</td></tr>\n",
       "\t<tr><th scope=row>5</th><td>2022</td><td>SE</td><td>FT</td><td>Lead Machine Learning Engineer</td><td> 7500000</td><td>INR</td><td>95386</td><td>IN</td><td> 50</td><td>IN</td><td>L</td></tr>\n",
       "\t<tr><th scope=row>6</th><td>2021</td><td>MI</td><td>FT</td><td>ML Engineer                   </td><td> 7000000</td><td>JPY</td><td>63711</td><td>JP</td><td> 50</td><td>JP</td><td>S</td></tr>\n",
       "</tbody>\n",
       "</table>\n"
      ],
      "text/latex": [
       "A data.frame: 6 × 11\n",
       "\\begin{tabular}{r|lllllllllll}\n",
       "  & work\\_year & experience\\_level & employment\\_type & job\\_title & salary & salary\\_currency & salary\\_in\\_usd & employee\\_residence & remote\\_ratio & company\\_location & company\\_size\\\\\n",
       "  & <int> & <chr> & <chr> & <chr> & <int> & <chr> & <int> & <chr> & <int> & <chr> & <chr>\\\\\n",
       "\\hline\n",
       "\t1 & 2021 & MI & FT & Data Scientist                 & 30400000 & CLP & 40038 & CL & 100 & CL & L\\\\\n",
       "\t2 & 2021 & MI & FT & BI Data Analyst                & 11000000 & HUF & 36259 & HU &  50 & US & L\\\\\n",
       "\t3 & 2020 & MI & FT & Data Scientist                 & 11000000 & HUF & 35735 & HU &  50 & HU & L\\\\\n",
       "\t4 & 2021 & MI & FT & ML Engineer                    &  8500000 & JPY & 77364 & JP &  50 & JP & S\\\\\n",
       "\t5 & 2022 & SE & FT & Lead Machine Learning Engineer &  7500000 & INR & 95386 & IN &  50 & IN & L\\\\\n",
       "\t6 & 2021 & MI & FT & ML Engineer                    &  7000000 & JPY & 63711 & JP &  50 & JP & S\\\\\n",
       "\\end{tabular}\n"
      ],
      "text/markdown": [
       "\n",
       "A data.frame: 6 × 11\n",
       "\n",
       "| <!--/--> | work_year &lt;int&gt; | experience_level &lt;chr&gt; | employment_type &lt;chr&gt; | job_title &lt;chr&gt; | salary &lt;int&gt; | salary_currency &lt;chr&gt; | salary_in_usd &lt;int&gt; | employee_residence &lt;chr&gt; | remote_ratio &lt;int&gt; | company_location &lt;chr&gt; | company_size &lt;chr&gt; |\n",
       "|---|---|---|---|---|---|---|---|---|---|---|---|\n",
       "| 1 | 2021 | MI | FT | Data Scientist                 | 30400000 | CLP | 40038 | CL | 100 | CL | L |\n",
       "| 2 | 2021 | MI | FT | BI Data Analyst                | 11000000 | HUF | 36259 | HU |  50 | US | L |\n",
       "| 3 | 2020 | MI | FT | Data Scientist                 | 11000000 | HUF | 35735 | HU |  50 | HU | L |\n",
       "| 4 | 2021 | MI | FT | ML Engineer                    |  8500000 | JPY | 77364 | JP |  50 | JP | S |\n",
       "| 5 | 2022 | SE | FT | Lead Machine Learning Engineer |  7500000 | INR | 95386 | IN |  50 | IN | L |\n",
       "| 6 | 2021 | MI | FT | ML Engineer                    |  7000000 | JPY | 63711 | JP |  50 | JP | S |\n",
       "\n"
      ],
      "text/plain": [
       "  work_year experience_level employment_type job_title                     \n",
       "1 2021      MI               FT              Data Scientist                \n",
       "2 2021      MI               FT              BI Data Analyst               \n",
       "3 2020      MI               FT              Data Scientist                \n",
       "4 2021      MI               FT              ML Engineer                   \n",
       "5 2022      SE               FT              Lead Machine Learning Engineer\n",
       "6 2021      MI               FT              ML Engineer                   \n",
       "  salary   salary_currency salary_in_usd employee_residence remote_ratio\n",
       "1 30400000 CLP             40038         CL                 100         \n",
       "2 11000000 HUF             36259         HU                  50         \n",
       "3 11000000 HUF             35735         HU                  50         \n",
       "4  8500000 JPY             77364         JP                  50         \n",
       "5  7500000 INR             95386         IN                  50         \n",
       "6  7000000 JPY             63711         JP                  50         \n",
       "  company_location company_size\n",
       "1 CL               L           \n",
       "2 US               L           \n",
       "3 HU               L           \n",
       "4 JP               S           \n",
       "5 IN               L           \n",
       "6 JP               S           "
      ]
     },
     "metadata": {},
     "output_type": "display_data"
    }
   ],
   "source": [
    "#Cargar los datos\n",
    "df <- read.csv('DataScience_salaries_2024.csv')\n",
    "head(df)"
   ]
  },
  {
   "cell_type": "markdown",
   "id": "7fbd6242-a605-4fe0-b444-338e8c724547",
   "metadata": {},
   "source": [
    "\n"
   ]
  },
  {
   "cell_type": "code",
   "execution_count": null,
   "id": "c889fdc9-b756-4917-86b9-67608f562e7f",
   "metadata": {},
   "outputs": [],
   "source": []
  },
  {
   "cell_type": "code",
   "execution_count": null,
   "id": "75a41d5d-3460-43b9-85e4-60b71892e4ad",
   "metadata": {},
   "outputs": [],
   "source": []
  },
  {
   "cell_type": "code",
   "execution_count": null,
   "id": "f0654f35-5246-4082-8e20-31d8ee85c871",
   "metadata": {},
   "outputs": [],
   "source": []
  },
  {
   "cell_type": "code",
   "execution_count": null,
   "id": "3a96daa2-11ba-474c-ac76-0cb6eed2e120",
   "metadata": {},
   "outputs": [],
   "source": []
  },
  {
   "cell_type": "code",
   "execution_count": null,
   "id": "e5b9fb7a-05ed-438c-a338-51cc23f9ad69",
   "metadata": {},
   "outputs": [],
   "source": []
  },
  {
   "cell_type": "code",
   "execution_count": null,
   "id": "fc186c69-aa61-470b-b93c-7caf5364280a",
   "metadata": {},
   "outputs": [],
   "source": []
  },
  {
   "cell_type": "code",
   "execution_count": null,
   "id": "03860743-9218-4d2f-81e8-8d6506c98571",
   "metadata": {},
   "outputs": [],
   "source": []
  },
  {
   "cell_type": "code",
   "execution_count": null,
   "id": "671525db-73fd-4bba-86a9-92d2a707814d",
   "metadata": {},
   "outputs": [],
   "source": []
  },
  {
   "cell_type": "code",
   "execution_count": null,
   "id": "e21580e1-f290-44de-b105-694b18119518",
   "metadata": {},
   "outputs": [],
   "source": []
  },
  {
   "cell_type": "code",
   "execution_count": null,
   "id": "f9701373-ddab-4434-9613-841b6ce7cfae",
   "metadata": {},
   "outputs": [],
   "source": []
  },
  {
   "cell_type": "code",
   "execution_count": null,
   "id": "15aa4de5-72fe-4dfa-bbb5-292938ae840d",
   "metadata": {},
   "outputs": [],
   "source": []
  },
  {
   "cell_type": "code",
   "execution_count": null,
   "id": "9e1b822a-7854-4709-a926-b651e4a18ef6",
   "metadata": {},
   "outputs": [],
   "source": []
  },
  {
   "cell_type": "code",
   "execution_count": null,
   "id": "cb041706-e372-41de-b9cf-81047857222c",
   "metadata": {},
   "outputs": [],
   "source": []
  },
  {
   "cell_type": "code",
   "execution_count": null,
   "id": "31116a33-e6c5-4539-8539-6acc26c6e0d6",
   "metadata": {},
   "outputs": [],
   "source": []
  },
  {
   "cell_type": "code",
   "execution_count": null,
   "id": "9fa2d235-6135-4a3d-a1df-dd2871bae6ac",
   "metadata": {},
   "outputs": [],
   "source": []
  }
 ],
 "metadata": {
  "kernelspec": {
   "display_name": "R",
   "language": "R",
   "name": "ir"
  },
  "language_info": {
   "codemirror_mode": "r",
   "file_extension": ".r",
   "mimetype": "text/x-r-source",
   "name": "R",
   "pygments_lexer": "r",
   "version": "4.3.3"
  }
 },
 "nbformat": 4,
 "nbformat_minor": 5
}
